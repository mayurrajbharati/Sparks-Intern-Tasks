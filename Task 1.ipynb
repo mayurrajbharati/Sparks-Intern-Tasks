{
  "nbformat": 4,
  "nbformat_minor": 0,
  "metadata": {
    "colab": {
      "name": "Noob.ipynb",
      "provenance": [],
      "collapsed_sections": [],
      "authorship_tag": "ABX9TyMnEJVAM5RnfIWzdc4ikUMw",
      "include_colab_link": true
    },
    "kernelspec": {
      "name": "python3",
      "display_name": "Python 3"
    }
  },
  "cells": [
    {
      "cell_type": "markdown",
      "metadata": {
        "id": "view-in-github",
        "colab_type": "text"
      },
      "source": [
        "<a href=\"https://colab.research.google.com/github/mayurrajbharati/Sparks-Intern-Tasks/blob/main/Task%201.ipynb\" target=\"_parent\"><img src=\"https://colab.research.google.com/assets/colab-badge.svg\" alt=\"Open In Colab\"/></a>"
      ]
    },
    {
      "cell_type": "markdown",
      "metadata": {
        "id": "Df7-0G8nFAnQ"
      },
      "source": [
        "**Task 1: Exploring Supervised Machine Learning**\n",
        "\n",
        "\n",
        "We are provided with a small dataset of 25 records and we are to study the relationship between the number of hours a student studies vs the percentage of marks he/she gets and finally predict the marks of a student if he/she studies for 9.25 hours in a day."
      ]
    },
    {
      "cell_type": "markdown",
      "metadata": {
        "id": "KpqJbmjzFroB"
      },
      "source": [
        "**Step 1: Importing essential libraries**"
      ]
    },
    {
      "cell_type": "code",
      "metadata": {
        "id": "tVaDcj6yEvFR"
      },
      "source": [
        "import numpy as np\n",
        "import pandas as pd\n",
        "import matplotlib.pyplot as plt\n",
        "%matplotlib inline\n",
        "import seaborn as sns"
      ],
      "execution_count": 1,
      "outputs": []
    },
    {
      "cell_type": "markdown",
      "metadata": {
        "id": "5vFOV5LoF_Oy"
      },
      "source": [
        "**Step 2: Loading data**"
      ]
    },
    {
      "cell_type": "code",
      "metadata": {
        "id": "goPXFPAWF9Oc",
        "outputId": "c141e316-343b-48a5-b299-2d959a7273e8",
        "colab": {
          "base_uri": "https://localhost:8080/",
          "height": 195
        }
      },
      "source": [
        "df = pd.read_csv(\"http://bit.ly/w-data\")\n",
        "df.head()"
      ],
      "execution_count": 39,
      "outputs": [
        {
          "output_type": "execute_result",
          "data": {
            "text/html": [
              "<div>\n",
              "<style scoped>\n",
              "    .dataframe tbody tr th:only-of-type {\n",
              "        vertical-align: middle;\n",
              "    }\n",
              "\n",
              "    .dataframe tbody tr th {\n",
              "        vertical-align: top;\n",
              "    }\n",
              "\n",
              "    .dataframe thead th {\n",
              "        text-align: right;\n",
              "    }\n",
              "</style>\n",
              "<table border=\"1\" class=\"dataframe\">\n",
              "  <thead>\n",
              "    <tr style=\"text-align: right;\">\n",
              "      <th></th>\n",
              "      <th>Hours</th>\n",
              "      <th>Scores</th>\n",
              "    </tr>\n",
              "  </thead>\n",
              "  <tbody>\n",
              "    <tr>\n",
              "      <th>0</th>\n",
              "      <td>2.5</td>\n",
              "      <td>21</td>\n",
              "    </tr>\n",
              "    <tr>\n",
              "      <th>1</th>\n",
              "      <td>5.1</td>\n",
              "      <td>47</td>\n",
              "    </tr>\n",
              "    <tr>\n",
              "      <th>2</th>\n",
              "      <td>3.2</td>\n",
              "      <td>27</td>\n",
              "    </tr>\n",
              "    <tr>\n",
              "      <th>3</th>\n",
              "      <td>8.5</td>\n",
              "      <td>75</td>\n",
              "    </tr>\n",
              "    <tr>\n",
              "      <th>4</th>\n",
              "      <td>3.5</td>\n",
              "      <td>30</td>\n",
              "    </tr>\n",
              "  </tbody>\n",
              "</table>\n",
              "</div>"
            ],
            "text/plain": [
              "   Hours  Scores\n",
              "0    2.5      21\n",
              "1    5.1      47\n",
              "2    3.2      27\n",
              "3    8.5      75\n",
              "4    3.5      30"
            ]
          },
          "metadata": {
            "tags": []
          },
          "execution_count": 39
        }
      ]
    },
    {
      "cell_type": "markdown",
      "metadata": {
        "id": "TUJg4J6pG6lC"
      },
      "source": [
        "**Step 3: Data Wrangling**"
      ]
    },
    {
      "cell_type": "code",
      "metadata": {
        "id": "Uign4wUnGu42",
        "outputId": "ccc383a6-bf81-4102-a403-67eefe87626a",
        "colab": {
          "base_uri": "https://localhost:8080/",
          "height": 284
        }
      },
      "source": [
        "#Statistical information of data\n",
        "df.describe()"
      ],
      "execution_count": 40,
      "outputs": [
        {
          "output_type": "execute_result",
          "data": {
            "text/html": [
              "<div>\n",
              "<style scoped>\n",
              "    .dataframe tbody tr th:only-of-type {\n",
              "        vertical-align: middle;\n",
              "    }\n",
              "\n",
              "    .dataframe tbody tr th {\n",
              "        vertical-align: top;\n",
              "    }\n",
              "\n",
              "    .dataframe thead th {\n",
              "        text-align: right;\n",
              "    }\n",
              "</style>\n",
              "<table border=\"1\" class=\"dataframe\">\n",
              "  <thead>\n",
              "    <tr style=\"text-align: right;\">\n",
              "      <th></th>\n",
              "      <th>Hours</th>\n",
              "      <th>Scores</th>\n",
              "    </tr>\n",
              "  </thead>\n",
              "  <tbody>\n",
              "    <tr>\n",
              "      <th>count</th>\n",
              "      <td>25.000000</td>\n",
              "      <td>25.000000</td>\n",
              "    </tr>\n",
              "    <tr>\n",
              "      <th>mean</th>\n",
              "      <td>5.012000</td>\n",
              "      <td>51.480000</td>\n",
              "    </tr>\n",
              "    <tr>\n",
              "      <th>std</th>\n",
              "      <td>2.525094</td>\n",
              "      <td>25.286887</td>\n",
              "    </tr>\n",
              "    <tr>\n",
              "      <th>min</th>\n",
              "      <td>1.100000</td>\n",
              "      <td>17.000000</td>\n",
              "    </tr>\n",
              "    <tr>\n",
              "      <th>25%</th>\n",
              "      <td>2.700000</td>\n",
              "      <td>30.000000</td>\n",
              "    </tr>\n",
              "    <tr>\n",
              "      <th>50%</th>\n",
              "      <td>4.800000</td>\n",
              "      <td>47.000000</td>\n",
              "    </tr>\n",
              "    <tr>\n",
              "      <th>75%</th>\n",
              "      <td>7.400000</td>\n",
              "      <td>75.000000</td>\n",
              "    </tr>\n",
              "    <tr>\n",
              "      <th>max</th>\n",
              "      <td>9.200000</td>\n",
              "      <td>95.000000</td>\n",
              "    </tr>\n",
              "  </tbody>\n",
              "</table>\n",
              "</div>"
            ],
            "text/plain": [
              "           Hours     Scores\n",
              "count  25.000000  25.000000\n",
              "mean    5.012000  51.480000\n",
              "std     2.525094  25.286887\n",
              "min     1.100000  17.000000\n",
              "25%     2.700000  30.000000\n",
              "50%     4.800000  47.000000\n",
              "75%     7.400000  75.000000\n",
              "max     9.200000  95.000000"
            ]
          },
          "metadata": {
            "tags": []
          },
          "execution_count": 40
        }
      ]
    },
    {
      "cell_type": "code",
      "metadata": {
        "id": "pc0JMAhY-AIl",
        "outputId": "e7d7a29b-dbd7-4668-af7d-2caa916a8072",
        "colab": {
          "base_uri": "https://localhost:8080/",
          "height": 70
        }
      },
      "source": [
        "#check if there is any null value\n",
        "\n",
        "df.isnull().sum()"
      ],
      "execution_count": 41,
      "outputs": [
        {
          "output_type": "execute_result",
          "data": {
            "text/plain": [
              "Hours     0\n",
              "Scores    0\n",
              "dtype: int64"
            ]
          },
          "metadata": {
            "tags": []
          },
          "execution_count": 41
        }
      ]
    },
    {
      "cell_type": "markdown",
      "metadata": {
        "id": "HJoLN5oXHtOZ"
      },
      "source": [
        "Since there are no NaN records as well as Null records and only 2 columns (one feature and one target), so no need for any Data Wrangling."
      ]
    },
    {
      "cell_type": "markdown",
      "metadata": {
        "id": "ddu5lsDUH5XD"
      },
      "source": [
        "**Step 4: Visualization**"
      ]
    },
    {
      "cell_type": "code",
      "metadata": {
        "id": "-qnTzab4AkVm",
        "outputId": "5fbb95da-5caf-478d-e672-2eaa5413a1c3",
        "colab": {
          "base_uri": "https://localhost:8080/",
          "height": 520
        }
      },
      "source": [
        "df.plot(\"Hours\",\"Scores\", linestyle =\"--\",marker =\"o\", markersize = \"10\", markerfacecolor = \"red\", figsize = (10,8))"
      ],
      "execution_count": 42,
      "outputs": [
        {
          "output_type": "execute_result",
          "data": {
            "text/plain": [
              "<matplotlib.axes._subplots.AxesSubplot at 0x7fc9aa791160>"
            ]
          },
          "metadata": {
            "tags": []
          },
          "execution_count": 42
        },
        {
          "output_type": "display_data",
          "data": {
            "image/png": "[encoded data removed]",
            "text/plain": [
              "<Figure size 720x576 with 1 Axes>"
            ]
          },
          "metadata": {
            "tags": []
          }
        }
      ]
    },
    {
      "cell_type": "markdown",
      "metadata": {
        "id": "SkNdzergOP6U"
      },
      "source": [
        "So, from the above graph we can say that as the number of study hours increase, the grades also get better for this dataset. Hence there is a positive linear relationship between Hours studied and score achieved. So we can directly apply linear regression."
      ]
    },
    {
      "cell_type": "markdown",
      "metadata": {
        "id": "8SGdC2L6P08L"
      },
      "source": [
        "**Step 5: Splitting into Training and Test Sets**"
      ]
    },
    {
      "cell_type": "code",
      "metadata": {
        "id": "fxKyD4G8YprR"
      },
      "source": [
        "X = df.iloc[:, :-1].values  \n",
        "Y = df.iloc[:, 1].values"
      ],
      "execution_count": 43,
      "outputs": []
    },
    {
      "cell_type": "code",
      "metadata": {
        "id": "kqGRJ8YmNQRE"
      },
      "source": [
        "from sklearn.model_selection import train_test_split\n",
        "X_train, X_test, Y_train, Y_test = train_test_split(X,Y,test_size = 0.2, random_state=0)"
      ],
      "execution_count": 44,
      "outputs": []
    },
    {
      "cell_type": "markdown",
      "metadata": {
        "id": "oTzM40oBULpy"
      },
      "source": [
        "**Step 6: Fitting simple linear regressor**\n"
      ]
    },
    {
      "cell_type": "code",
      "metadata": {
        "id": "-HqWO_LoUF87",
        "outputId": "d1214551-ecf4-41b4-e61a-a0dcee6ce6b3",
        "colab": {
          "base_uri": "https://localhost:8080/",
          "height": 34
        }
      },
      "source": [
        "from sklearn.linear_model import LinearRegression\n",
        "regressor = LinearRegression()\n",
        "regressor.fit(X_train, Y_train)\n",
        "print(\"Training Complete!\")"
      ],
      "execution_count": 45,
      "outputs": [
        {
          "output_type": "stream",
          "text": [
            "Training Complete!\n"
          ],
          "name": "stdout"
        }
      ]
    },
    {
      "cell_type": "markdown",
      "metadata": {
        "id": "XxCbO7g_BagS"
      },
      "source": [
        "Next, we find the intercept and slope value of the regression line and plot the regression line."
      ]
    },
    {
      "cell_type": "code",
      "metadata": {
        "id": "hh5-fBrSBqpd",
        "outputId": "cce159ad-5947-4fd9-d1fc-53b84d5f0839",
        "colab": {
          "base_uri": "https://localhost:8080/",
          "height": 52
        }
      },
      "source": [
        "slope = regressor.coef_\n",
        "intercept = regressor.intercept_\n",
        "\n",
        "print(\"Slope is :\", slope)\n",
        "print(\"Intercept is \",intercept)"
      ],
      "execution_count": 58,
      "outputs": [
        {
          "output_type": "stream",
          "text": [
            "Slope is : [9.91065648]\n",
            "Intercept is  2.018160041434662\n"
          ],
          "name": "stdout"
        }
      ]
    },
    {
      "cell_type": "code",
      "metadata": {
        "id": "c0Kfj4V3Bw8L",
        "outputId": "85f156bf-8cd4-475c-ae81-0e0afde125c5",
        "colab": {
          "base_uri": "https://localhost:8080/",
          "height": 301
        }
      },
      "source": [
        "line = slope*X + intercept\n",
        "\n",
        "plt.scatter(X,Y)\n",
        "plt.plot(X,line, 'r')\n",
        "plt.xlabel('Hours studied')\n",
        "plt.ylabel('Marks obtained')\n",
        "plt.title('Regression plot of Hours vs Score')\n",
        "plt.show()"
      ],
      "execution_count": 50,
      "outputs": [
        {
          "output_type": "display_data",
          "data": {
            "image/png": "[encoded data removed]",
            "text/plain": [
              "<Figure size 432x288 with 1 Axes>"
            ]
          },
          "metadata": {
            "tags": []
          }
        }
      ]
    },
    {
      "cell_type": "markdown",
      "metadata": {
        "id": "XemqPowEYGk2"
      },
      "source": [
        "**Step 7: Predicting the test set results**"
      ]
    },
    {
      "cell_type": "code",
      "metadata": {
        "id": "JmMajccnXoMO"
      },
      "source": [
        "Y_pred = regressor.predict(X_test)"
      ],
      "execution_count": 51,
      "outputs": []
    },
    {
      "cell_type": "code",
      "metadata": {
        "id": "tR_YUH3zYOe0",
        "outputId": "524ea8e1-a64d-4251-9b2c-74aecddbd0af",
        "colab": {
          "base_uri": "https://localhost:8080/",
          "height": 195
        }
      },
      "source": [
        "data = pd.DataFrame({'Actual': Y_test.flatten(), 'Predicted': Y_pred.flatten()})\n",
        "data"
      ],
      "execution_count": 53,
      "outputs": [
        {
          "output_type": "execute_result",
          "data": {
            "text/html": [
              "<div>\n",
              "<style scoped>\n",
              "    .dataframe tbody tr th:only-of-type {\n",
              "        vertical-align: middle;\n",
              "    }\n",
              "\n",
              "    .dataframe tbody tr th {\n",
              "        vertical-align: top;\n",
              "    }\n",
              "\n",
              "    .dataframe thead th {\n",
              "        text-align: right;\n",
              "    }\n",
              "</style>\n",
              "<table border=\"1\" class=\"dataframe\">\n",
              "  <thead>\n",
              "    <tr style=\"text-align: right;\">\n",
              "      <th></th>\n",
              "      <th>Actual</th>\n",
              "      <th>Predicted</th>\n",
              "    </tr>\n",
              "  </thead>\n",
              "  <tbody>\n",
              "    <tr>\n",
              "      <th>0</th>\n",
              "      <td>20</td>\n",
              "      <td>16.884145</td>\n",
              "    </tr>\n",
              "    <tr>\n",
              "      <th>1</th>\n",
              "      <td>27</td>\n",
              "      <td>33.732261</td>\n",
              "    </tr>\n",
              "    <tr>\n",
              "      <th>2</th>\n",
              "      <td>69</td>\n",
              "      <td>75.357018</td>\n",
              "    </tr>\n",
              "    <tr>\n",
              "      <th>3</th>\n",
              "      <td>30</td>\n",
              "      <td>26.794801</td>\n",
              "    </tr>\n",
              "    <tr>\n",
              "      <th>4</th>\n",
              "      <td>62</td>\n",
              "      <td>60.491033</td>\n",
              "    </tr>\n",
              "  </tbody>\n",
              "</table>\n",
              "</div>"
            ],
            "text/plain": [
              "   Actual  Predicted\n",
              "0      20  16.884145\n",
              "1      27  33.732261\n",
              "2      69  75.357018\n",
              "3      30  26.794801\n",
              "4      62  60.491033"
            ]
          },
          "metadata": {
            "tags": []
          },
          "execution_count": 53
        }
      ]
    },
    {
      "cell_type": "markdown",
      "metadata": {
        "id": "RMr-sLYnDGX1"
      },
      "source": [
        "**Step 8: Predicting the score for 9.25 hours**"
      ]
    },
    {
      "cell_type": "code",
      "metadata": {
        "id": "ceCbKnHCYdHy",
        "outputId": "7da1e57c-984b-4559-f754-a423633e404e",
        "colab": {
          "base_uri": "https://localhost:8080/",
          "height": 52
        }
      },
      "source": [
        "hours = 9.25\n",
        "own_pred = regressor.predict([[hours]])\n",
        "print(\"No. of hours studied = \",hours)\n",
        "print(\"Predicted Score(out of 100) = \", own_pred[0])"
      ],
      "execution_count": 61,
      "outputs": [
        {
          "output_type": "stream",
          "text": [
            "No. of hours studied =  9.25\n",
            "Predicted Score(out of 100) =  93.69173248737539\n"
          ],
          "name": "stdout"
        }
      ]
    },
    {
      "cell_type": "markdown",
      "metadata": {
        "id": "HdkNIyYRD9-I"
      },
      "source": [
        "So, we can say that if a student studies for 9.25 hours a day, he/she will score 93.7 percentage of marks."
      ]
    },
    {
      "cell_type": "markdown",
      "metadata": {
        "id": "CYiKu_2PD4qI"
      },
      "source": [
        "**Step 9: Evaluating the Model**"
      ]
    },
    {
      "cell_type": "code",
      "metadata": {
        "id": "9eR0QAWsDm5p"
      },
      "source": [
        "from sklearn import metrics\n",
        "from sklearn.metrics import r2_score\n"
      ],
      "execution_count": 62,
      "outputs": []
    },
    {
      "cell_type": "code",
      "metadata": {
        "id": "tjIF-a4aFlSQ",
        "outputId": "72142b14-524e-4038-e601-581989b05859",
        "colab": {
          "base_uri": "https://localhost:8080/",
          "height": 34
        }
      },
      "source": [
        "print('Mean Absolute Error :', metrics.mean_absolute_error(Y_test, Y_pred))"
      ],
      "execution_count": 63,
      "outputs": [
        {
          "output_type": "stream",
          "text": [
            "Mean Absolute Error : 4.183859899002982\n"
          ],
          "name": "stdout"
        }
      ]
    },
    {
      "cell_type": "code",
      "metadata": {
        "id": "8Zf-mS_yFruc",
        "outputId": "ac3489c8-8c8a-4270-dada-15670e447d72",
        "colab": {
          "base_uri": "https://localhost:8080/",
          "height": 34
        }
      },
      "source": [
        "print('Root Mean Square Error :', np.sqrt(metrics.mean_squared_error(Y_test, Y_pred)))"
      ],
      "execution_count": 65,
      "outputs": [
        {
          "output_type": "stream",
          "text": [
            "Root Mean Square Error : 4.647447612100373\n"
          ],
          "name": "stdout"
        }
      ]
    },
    {
      "cell_type": "code",
      "metadata": {
        "id": "ZynHOUTXFzFL",
        "outputId": "c10246c3-113c-477c-8a8d-77ec641a22a5",
        "colab": {
          "base_uri": "https://localhost:8080/",
          "height": 34
        }
      },
      "source": [
        "print('Accuracy: ', r2_score(Y_test, Y_pred))"
      ],
      "execution_count": 66,
      "outputs": [
        {
          "output_type": "stream",
          "text": [
            "Accuracy:  0.9454906892105354\n"
          ],
          "name": "stdout"
        }
      ]
    },
    {
      "cell_type": "markdown",
      "metadata": {
        "id": "r6CfCXf2F-4C"
      },
      "source": [
        "**Conclusion:** I have applied a simple linear regressor to a rather small dataset of 25 records to study the relationship between hours studied and scores obtained. I have found out that if a student studies for 9.25 hours, the score will be approximately 93.7, however this is not always true as the dataset is extremely small. Upon Model Evaluation, I found out that the MAE is 4.67 and the RMSE is 4.64. Further, I got an accuray of 94.5%."
      ]
    },
    {
      "cell_type": "code",
      "metadata": {
        "id": "rdMsrzLrF9Kg"
      },
      "source": [
        ""
      ],
      "execution_count": null,
      "outputs": []
    }
  ]
}